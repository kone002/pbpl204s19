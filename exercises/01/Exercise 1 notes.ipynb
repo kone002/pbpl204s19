{
 "cells": [
  {
   "cell_type": "code",
   "execution_count": 1,
   "metadata": {},
   "outputs": [],
   "source": [
    "import pandas\n",
    "import numpy as np "
   ]
  },
  {
   "cell_type": "markdown",
   "metadata": {},
   "source": [
    "# Reading our data into a Pandas data frame\n",
    "\n",
    "Our data are in the form of a *comma separated file (CSV) on the local directory.\n"
   ]
  },
  {
   "cell_type": "code",
   "execution_count": 4,
   "metadata": {},
   "outputs": [],
   "source": [
    "data = pandas.read_csv(\"ex01.csv\")"
   ]
  },
  {
   "cell_type": "code",
   "execution_count": 5,
   "metadata": {},
   "outputs": [
    {
     "data": {
      "text/html": [
       "<div>\n",
       "<style scoped>\n",
       "    .dataframe tbody tr th:only-of-type {\n",
       "        vertical-align: middle;\n",
       "    }\n",
       "\n",
       "    .dataframe tbody tr th {\n",
       "        vertical-align: top;\n",
       "    }\n",
       "\n",
       "    .dataframe thead th {\n",
       "        text-align: right;\n",
       "    }\n",
       "</style>\n",
       "<table border=\"1\" class=\"dataframe\">\n",
       "  <thead>\n",
       "    <tr style=\"text-align: right;\">\n",
       "      <th></th>\n",
       "      <th>Unnamed: 0</th>\n",
       "      <th>Description</th>\n",
       "      <th>LineCode</th>\n",
       "      <th>c_00000</th>\n",
       "      <th>c_06000</th>\n",
       "      <th>c_06001</th>\n",
       "      <th>c_06003</th>\n",
       "      <th>c_06005</th>\n",
       "      <th>c_06007</th>\n",
       "      <th>c_06009</th>\n",
       "      <th>...</th>\n",
       "      <th>c_06097</th>\n",
       "      <th>c_06099</th>\n",
       "      <th>c_06101</th>\n",
       "      <th>c_06103</th>\n",
       "      <th>c_06105</th>\n",
       "      <th>c_06107</th>\n",
       "      <th>c_06109</th>\n",
       "      <th>c_06111</th>\n",
       "      <th>c_06113</th>\n",
       "      <th>c_06115</th>\n",
       "    </tr>\n",
       "  </thead>\n",
       "  <tbody>\n",
       "    <tr>\n",
       "      <th>0</th>\n",
       "      <td>0</td>\n",
       "      <td>Total employment (number of jobs)</td>\n",
       "      <td>10.0</td>\n",
       "      <td>196132200.0</td>\n",
       "      <td>23584800.0</td>\n",
       "      <td>1066435.0</td>\n",
       "      <td>1214.0</td>\n",
       "      <td>18111.0</td>\n",
       "      <td>114627.0</td>\n",
       "      <td>17066.0</td>\n",
       "      <td>...</td>\n",
       "      <td>304489.0</td>\n",
       "      <td>246865.0</td>\n",
       "      <td>42846.0</td>\n",
       "      <td>26038.0</td>\n",
       "      <td>4796.0</td>\n",
       "      <td>207171.0</td>\n",
       "      <td>25992.0</td>\n",
       "      <td>468725.0</td>\n",
       "      <td>137571.0</td>\n",
       "      <td>28711.0</td>\n",
       "    </tr>\n",
       "    <tr>\n",
       "      <th>1</th>\n",
       "      <td>1</td>\n",
       "      <td>Wage and salary employment</td>\n",
       "      <td>20.0</td>\n",
       "      <td>151825000.0</td>\n",
       "      <td>17908517.0</td>\n",
       "      <td>826948.0</td>\n",
       "      <td>1048.0</td>\n",
       "      <td>12723.0</td>\n",
       "      <td>88316.0</td>\n",
       "      <td>10134.0</td>\n",
       "      <td>...</td>\n",
       "      <td>218263.0</td>\n",
       "      <td>197054.0</td>\n",
       "      <td>31859.0</td>\n",
       "      <td>19346.0</td>\n",
       "      <td>2866.0</td>\n",
       "      <td>169030.0</td>\n",
       "      <td>18376.0</td>\n",
       "      <td>344395.0</td>\n",
       "      <td>113823.0</td>\n",
       "      <td>22250.0</td>\n",
       "    </tr>\n",
       "    <tr>\n",
       "      <th>2</th>\n",
       "      <td>2</td>\n",
       "      <td>Proprietors employment</td>\n",
       "      <td>40.0</td>\n",
       "      <td>44307200.0</td>\n",
       "      <td>5676283.0</td>\n",
       "      <td>239487.0</td>\n",
       "      <td>166.0</td>\n",
       "      <td>5388.0</td>\n",
       "      <td>26311.0</td>\n",
       "      <td>6932.0</td>\n",
       "      <td>...</td>\n",
       "      <td>86226.0</td>\n",
       "      <td>49811.0</td>\n",
       "      <td>10987.0</td>\n",
       "      <td>6692.0</td>\n",
       "      <td>1930.0</td>\n",
       "      <td>38141.0</td>\n",
       "      <td>7616.0</td>\n",
       "      <td>124330.0</td>\n",
       "      <td>23748.0</td>\n",
       "      <td>6461.0</td>\n",
       "    </tr>\n",
       "    <tr>\n",
       "      <th>3</th>\n",
       "      <td>3</td>\n",
       "      <td>Farm proprietors employment</td>\n",
       "      <td>50.0</td>\n",
       "      <td>1812000.0</td>\n",
       "      <td>64937.0</td>\n",
       "      <td>355.0</td>\n",
       "      <td>0.0</td>\n",
       "      <td>388.0</td>\n",
       "      <td>1759.0</td>\n",
       "      <td>571.0</td>\n",
       "      <td>...</td>\n",
       "      <td>2934.0</td>\n",
       "      <td>3517.0</td>\n",
       "      <td>1178.0</td>\n",
       "      <td>1519.0</td>\n",
       "      <td>218.0</td>\n",
       "      <td>4176.0</td>\n",
       "      <td>347.0</td>\n",
       "      <td>1702.0</td>\n",
       "      <td>809.0</td>\n",
       "      <td>706.0</td>\n",
       "    </tr>\n",
       "    <tr>\n",
       "      <th>4</th>\n",
       "      <td>4</td>\n",
       "      <td>Nonfarm proprietors employment 2/</td>\n",
       "      <td>60.0</td>\n",
       "      <td>42495200.0</td>\n",
       "      <td>5611346.0</td>\n",
       "      <td>239132.0</td>\n",
       "      <td>166.0</td>\n",
       "      <td>5000.0</td>\n",
       "      <td>24552.0</td>\n",
       "      <td>6361.0</td>\n",
       "      <td>...</td>\n",
       "      <td>83292.0</td>\n",
       "      <td>46294.0</td>\n",
       "      <td>9809.0</td>\n",
       "      <td>5173.0</td>\n",
       "      <td>1712.0</td>\n",
       "      <td>33965.0</td>\n",
       "      <td>7269.0</td>\n",
       "      <td>122628.0</td>\n",
       "      <td>22939.0</td>\n",
       "      <td>5755.0</td>\n",
       "    </tr>\n",
       "  </tbody>\n",
       "</table>\n",
       "<p>5 rows × 63 columns</p>\n",
       "</div>"
      ],
      "text/plain": [
       "   Unnamed: 0                          Description  LineCode      c_00000  \\\n",
       "0           0    Total employment (number of jobs)      10.0  196132200.0   \n",
       "1           1           Wage and salary employment      20.0  151825000.0   \n",
       "2           2               Proprietors employment      40.0   44307200.0   \n",
       "3           3          Farm proprietors employment      50.0    1812000.0   \n",
       "4           4    Nonfarm proprietors employment 2/      60.0   42495200.0   \n",
       "\n",
       "      c_06000    c_06001  c_06003  c_06005   c_06007  c_06009   ...     \\\n",
       "0  23584800.0  1066435.0   1214.0  18111.0  114627.0  17066.0   ...      \n",
       "1  17908517.0   826948.0   1048.0  12723.0   88316.0  10134.0   ...      \n",
       "2   5676283.0   239487.0    166.0   5388.0   26311.0   6932.0   ...      \n",
       "3     64937.0      355.0      0.0    388.0    1759.0    571.0   ...      \n",
       "4   5611346.0   239132.0    166.0   5000.0   24552.0   6361.0   ...      \n",
       "\n",
       "    c_06097   c_06099  c_06101  c_06103  c_06105   c_06107  c_06109   c_06111  \\\n",
       "0  304489.0  246865.0  42846.0  26038.0   4796.0  207171.0  25992.0  468725.0   \n",
       "1  218263.0  197054.0  31859.0  19346.0   2866.0  169030.0  18376.0  344395.0   \n",
       "2   86226.0   49811.0  10987.0   6692.0   1930.0   38141.0   7616.0  124330.0   \n",
       "3    2934.0    3517.0   1178.0   1519.0    218.0    4176.0    347.0    1702.0   \n",
       "4   83292.0   46294.0   9809.0   5173.0   1712.0   33965.0   7269.0  122628.0   \n",
       "\n",
       "    c_06113  c_06115  \n",
       "0  137571.0  28711.0  \n",
       "1  113823.0  22250.0  \n",
       "2   23748.0   6461.0  \n",
       "3     809.0    706.0  \n",
       "4   22939.0   5755.0  \n",
       "\n",
       "[5 rows x 63 columns]"
      ]
     },
     "execution_count": 5,
     "metadata": {},
     "output_type": "execute_result"
    }
   ],
   "source": [
    "data.head()"
   ]
  },
  {
   "cell_type": "code",
   "execution_count": 6,
   "metadata": {},
   "outputs": [],
   "source": [
    "line_codes = data['LineCode']"
   ]
  },
  {
   "cell_type": "code",
   "execution_count": 7,
   "metadata": {},
   "outputs": [
    {
     "data": {
      "text/plain": [
       "0       10.0\n",
       "1       20.0\n",
       "2       40.0\n",
       "3       50.0\n",
       "4       60.0\n",
       "5       70.0\n",
       "6       80.0\n",
       "7       90.0\n",
       "8      100.0\n",
       "9      200.0\n",
       "10     300.0\n",
       "11     400.0\n",
       "12     500.0\n",
       "13     600.0\n",
       "14     700.0\n",
       "15     800.0\n",
       "16     900.0\n",
       "17    1000.0\n",
       "18    1100.0\n",
       "19    1200.0\n",
       "20    1300.0\n",
       "21    1400.0\n",
       "22    1500.0\n",
       "23    1600.0\n",
       "24    1700.0\n",
       "25    1800.0\n",
       "26    1900.0\n",
       "27    2000.0\n",
       "28    2001.0\n",
       "29    2002.0\n",
       "30    2010.0\n",
       "31    2011.0\n",
       "32    2012.0\n",
       "Name: LineCode, dtype: float64"
      ]
     },
     "execution_count": 7,
     "metadata": {},
     "output_type": "execute_result"
    }
   ],
   "source": [
    "line_codes"
   ]
  },
  {
   "cell_type": "code",
   "execution_count": 8,
   "metadata": {},
   "outputs": [],
   "source": [
    "description = data['Description']"
   ]
  },
  {
   "cell_type": "code",
   "execution_count": 9,
   "metadata": {},
   "outputs": [
    {
     "data": {
      "text/plain": [
       "0                     Total employment (number of jobs)\n",
       "1                            Wage and salary employment\n",
       "2                                Proprietors employment\n",
       "3                           Farm proprietors employment\n",
       "4                     Nonfarm proprietors employment 2/\n",
       "5                                       Farm employment\n",
       "6                                    Nonfarm employment\n",
       "7                            Private nonfarm employment\n",
       "8             Forestry, fishing, and related activities\n",
       "9         Mining, quarrying, and oil and gas extraction\n",
       "10                                            Utilities\n",
       "11                                         Construction\n",
       "12                                        Manufacturing\n",
       "13                                      Wholesale trade\n",
       "14                                         Retail trade\n",
       "15                       Transportation and warehousing\n",
       "16                                          Information\n",
       "17                                Finance and insurance\n",
       "18                   Real estate and rental and leasing\n",
       "19       Professional, scientific, and technical ser...\n",
       "20              Management of companies and enterprises\n",
       "21       Administrative and support and waste manage...\n",
       "22                                 Educational services\n",
       "23                    Health care and social assistance\n",
       "24                  Arts, entertainment, and recreation\n",
       "25                      Accommodation and food services\n",
       "26       Other services (except government and gover...\n",
       "27                Government and government enterprises\n",
       "28                                     Federal civilian\n",
       "29                                             Military\n",
       "30                                      State and local\n",
       "31                                     State government\n",
       "32                                     Local government\n",
       "Name: Description, dtype: object"
      ]
     },
     "execution_count": 9,
     "metadata": {},
     "output_type": "execute_result"
    }
   ],
   "source": [
    "description"
   ]
  },
  {
   "cell_type": "code",
   "execution_count": 10,
   "metadata": {},
   "outputs": [
    {
     "ename": "SyntaxError",
     "evalue": "invalid syntax (<ipython-input-10-12dbd158314f>, line 1)",
     "output_type": "error",
     "traceback": [
      "\u001b[1;36m  File \u001b[1;32m\"<ipython-input-10-12dbd158314f>\"\u001b[1;36m, line \u001b[1;32m1\u001b[0m\n\u001b[1;33m    test = data[['Description'. 'LineCode']]\u001b[0m\n\u001b[1;37m                                         ^\u001b[0m\n\u001b[1;31mSyntaxError\u001b[0m\u001b[1;31m:\u001b[0m invalid syntax\n"
     ]
    }
   ],
   "source": [
    "test = data[['Description'. 'LineCode']]"
   ]
  },
  {
   "cell_type": "code",
   "execution_count": 11,
   "metadata": {},
   "outputs": [
    {
     "data": {
      "text/html": [
       "<div>\n",
       "<style scoped>\n",
       "    .dataframe tbody tr th:only-of-type {\n",
       "        vertical-align: middle;\n",
       "    }\n",
       "\n",
       "    .dataframe tbody tr th {\n",
       "        vertical-align: top;\n",
       "    }\n",
       "\n",
       "    .dataframe thead th {\n",
       "        text-align: right;\n",
       "    }\n",
       "</style>\n",
       "<table border=\"1\" class=\"dataframe\">\n",
       "  <thead>\n",
       "    <tr style=\"text-align: right;\">\n",
       "      <th></th>\n",
       "      <th>Description</th>\n",
       "      <th>LineCode</th>\n",
       "    </tr>\n",
       "  </thead>\n",
       "  <tbody>\n",
       "    <tr>\n",
       "      <th>0</th>\n",
       "      <td>Total employment (number of jobs)</td>\n",
       "      <td>10.0</td>\n",
       "    </tr>\n",
       "    <tr>\n",
       "      <th>1</th>\n",
       "      <td>Wage and salary employment</td>\n",
       "      <td>20.0</td>\n",
       "    </tr>\n",
       "    <tr>\n",
       "      <th>2</th>\n",
       "      <td>Proprietors employment</td>\n",
       "      <td>40.0</td>\n",
       "    </tr>\n",
       "    <tr>\n",
       "      <th>3</th>\n",
       "      <td>Farm proprietors employment</td>\n",
       "      <td>50.0</td>\n",
       "    </tr>\n",
       "    <tr>\n",
       "      <th>4</th>\n",
       "      <td>Nonfarm proprietors employment 2/</td>\n",
       "      <td>60.0</td>\n",
       "    </tr>\n",
       "    <tr>\n",
       "      <th>5</th>\n",
       "      <td>Farm employment</td>\n",
       "      <td>70.0</td>\n",
       "    </tr>\n",
       "    <tr>\n",
       "      <th>6</th>\n",
       "      <td>Nonfarm employment</td>\n",
       "      <td>80.0</td>\n",
       "    </tr>\n",
       "    <tr>\n",
       "      <th>7</th>\n",
       "      <td>Private nonfarm employment</td>\n",
       "      <td>90.0</td>\n",
       "    </tr>\n",
       "    <tr>\n",
       "      <th>8</th>\n",
       "      <td>Forestry, fishing, and related activities</td>\n",
       "      <td>100.0</td>\n",
       "    </tr>\n",
       "    <tr>\n",
       "      <th>9</th>\n",
       "      <td>Mining, quarrying, and oil and gas extraction</td>\n",
       "      <td>200.0</td>\n",
       "    </tr>\n",
       "    <tr>\n",
       "      <th>10</th>\n",
       "      <td>Utilities</td>\n",
       "      <td>300.0</td>\n",
       "    </tr>\n",
       "    <tr>\n",
       "      <th>11</th>\n",
       "      <td>Construction</td>\n",
       "      <td>400.0</td>\n",
       "    </tr>\n",
       "    <tr>\n",
       "      <th>12</th>\n",
       "      <td>Manufacturing</td>\n",
       "      <td>500.0</td>\n",
       "    </tr>\n",
       "    <tr>\n",
       "      <th>13</th>\n",
       "      <td>Wholesale trade</td>\n",
       "      <td>600.0</td>\n",
       "    </tr>\n",
       "    <tr>\n",
       "      <th>14</th>\n",
       "      <td>Retail trade</td>\n",
       "      <td>700.0</td>\n",
       "    </tr>\n",
       "    <tr>\n",
       "      <th>15</th>\n",
       "      <td>Transportation and warehousing</td>\n",
       "      <td>800.0</td>\n",
       "    </tr>\n",
       "    <tr>\n",
       "      <th>16</th>\n",
       "      <td>Information</td>\n",
       "      <td>900.0</td>\n",
       "    </tr>\n",
       "    <tr>\n",
       "      <th>17</th>\n",
       "      <td>Finance and insurance</td>\n",
       "      <td>1000.0</td>\n",
       "    </tr>\n",
       "    <tr>\n",
       "      <th>18</th>\n",
       "      <td>Real estate and rental and leasing</td>\n",
       "      <td>1100.0</td>\n",
       "    </tr>\n",
       "    <tr>\n",
       "      <th>19</th>\n",
       "      <td>Professional, scientific, and technical ser...</td>\n",
       "      <td>1200.0</td>\n",
       "    </tr>\n",
       "    <tr>\n",
       "      <th>20</th>\n",
       "      <td>Management of companies and enterprises</td>\n",
       "      <td>1300.0</td>\n",
       "    </tr>\n",
       "    <tr>\n",
       "      <th>21</th>\n",
       "      <td>Administrative and support and waste manage...</td>\n",
       "      <td>1400.0</td>\n",
       "    </tr>\n",
       "    <tr>\n",
       "      <th>22</th>\n",
       "      <td>Educational services</td>\n",
       "      <td>1500.0</td>\n",
       "    </tr>\n",
       "    <tr>\n",
       "      <th>23</th>\n",
       "      <td>Health care and social assistance</td>\n",
       "      <td>1600.0</td>\n",
       "    </tr>\n",
       "    <tr>\n",
       "      <th>24</th>\n",
       "      <td>Arts, entertainment, and recreation</td>\n",
       "      <td>1700.0</td>\n",
       "    </tr>\n",
       "    <tr>\n",
       "      <th>25</th>\n",
       "      <td>Accommodation and food services</td>\n",
       "      <td>1800.0</td>\n",
       "    </tr>\n",
       "    <tr>\n",
       "      <th>26</th>\n",
       "      <td>Other services (except government and gover...</td>\n",
       "      <td>1900.0</td>\n",
       "    </tr>\n",
       "    <tr>\n",
       "      <th>27</th>\n",
       "      <td>Government and government enterprises</td>\n",
       "      <td>2000.0</td>\n",
       "    </tr>\n",
       "    <tr>\n",
       "      <th>28</th>\n",
       "      <td>Federal civilian</td>\n",
       "      <td>2001.0</td>\n",
       "    </tr>\n",
       "    <tr>\n",
       "      <th>29</th>\n",
       "      <td>Military</td>\n",
       "      <td>2002.0</td>\n",
       "    </tr>\n",
       "    <tr>\n",
       "      <th>30</th>\n",
       "      <td>State and local</td>\n",
       "      <td>2010.0</td>\n",
       "    </tr>\n",
       "    <tr>\n",
       "      <th>31</th>\n",
       "      <td>State government</td>\n",
       "      <td>2011.0</td>\n",
       "    </tr>\n",
       "    <tr>\n",
       "      <th>32</th>\n",
       "      <td>Local government</td>\n",
       "      <td>2012.0</td>\n",
       "    </tr>\n",
       "  </tbody>\n",
       "</table>\n",
       "</div>"
      ],
      "text/plain": [
       "                                          Description  LineCode\n",
       "0                   Total employment (number of jobs)      10.0\n",
       "1                          Wage and salary employment      20.0\n",
       "2                              Proprietors employment      40.0\n",
       "3                         Farm proprietors employment      50.0\n",
       "4                   Nonfarm proprietors employment 2/      60.0\n",
       "5                                     Farm employment      70.0\n",
       "6                                  Nonfarm employment      80.0\n",
       "7                          Private nonfarm employment      90.0\n",
       "8           Forestry, fishing, and related activities     100.0\n",
       "9       Mining, quarrying, and oil and gas extraction     200.0\n",
       "10                                          Utilities     300.0\n",
       "11                                       Construction     400.0\n",
       "12                                      Manufacturing     500.0\n",
       "13                                    Wholesale trade     600.0\n",
       "14                                       Retail trade     700.0\n",
       "15                     Transportation and warehousing     800.0\n",
       "16                                        Information     900.0\n",
       "17                              Finance and insurance    1000.0\n",
       "18                 Real estate and rental and leasing    1100.0\n",
       "19     Professional, scientific, and technical ser...    1200.0\n",
       "20            Management of companies and enterprises    1300.0\n",
       "21     Administrative and support and waste manage...    1400.0\n",
       "22                               Educational services    1500.0\n",
       "23                  Health care and social assistance    1600.0\n",
       "24                Arts, entertainment, and recreation    1700.0\n",
       "25                    Accommodation and food services    1800.0\n",
       "26     Other services (except government and gover...    1900.0\n",
       "27              Government and government enterprises    2000.0\n",
       "28                                   Federal civilian    2001.0\n",
       "29                                           Military    2002.0\n",
       "30                                    State and local    2010.0\n",
       "31                                   State government    2011.0\n",
       "32                                   Local government    2012.0"
      ]
     },
     "execution_count": 11,
     "metadata": {},
     "output_type": "execute_result"
    }
   ],
   "source": [
    "test = data [['Description', 'LineCode']]\n",
    "test"
   ]
  },
  {
   "cell_type": "markdown",
   "metadata": {},
   "source": [
    "## Aggregation Profiles"
   ]
  },
  {
   "cell_type": "code",
   "execution_count": 12,
   "metadata": {},
   "outputs": [],
   "source": [
    "d1 = [20.0, 40.0]\n",
    "d2 = [20.0, 50.0, 60.0]\n",
    "d3 = [70.0, 90.0, 2000.0]\n",
    "d4 = [70.0]\n",
    "v = [100.0,\n",
    "    200.0,\n",
    "    300.0,\n",
    "    400.0,\n",
    "    500.0,\n",
    "    600.0,\n",
    "    700.0,\n",
    "    800.0,\n",
    "    900.0,\n",
    "    1000.0,\n",
    "    1100.0,\n",
    "    1200.0,\n",
    "    1300.0,\n",
    "    1400.0,\n",
    "    1500.0,\n",
    "    1600.0,\n",
    "    1700.0,\n",
    "    1800.0,\n",
    "    1900.0]\n",
    "d4.extend(v)\n",
    "d4.extend([2001.0, 2002.0, 2011.0, 2012.0])"
   ]
  },
  {
   "cell_type": "code",
   "execution_count": 13,
   "metadata": {},
   "outputs": [],
   "source": [
    "aggregation_profiles = [d1, d2, d3, d4]"
   ]
  },
  {
   "cell_type": "code",
   "execution_count": 14,
   "metadata": {},
   "outputs": [
    {
     "name": "stdout",
     "output_type": "stream",
     "text": [
      "[20.0, 40.0]\n",
      "[20.0, 50.0, 60.0]\n",
      "[70.0, 90.0, 2000.0]\n",
      "[70.0, 100.0, 200.0, 300.0, 400.0, 500.0, 600.0, 700.0, 800.0, 900.0, 1000.0, 1100.0, 1200.0, 1300.0, 1400.0, 1500.0, 1600.0, 1700.0, 1800.0, 1900.0, 2001.0, 2002.0, 2011.0, 2012.0]\n"
     ]
    }
   ],
   "source": [
    "for profile in aggregation_profiles: \n",
    "    print(profile)"
   ]
  },
  {
   "cell_type": "code",
   "execution_count": 15,
   "metadata": {},
   "outputs": [
    {
     "name": "stdout",
     "output_type": "stream",
     "text": [
      "\n",
      "    LineCode                  Description      c_00000\n",
      "1      20.0   Wage and salary employment  151825000.0\n",
      "2      40.0       Proprietors employment   44307200.0\n",
      "\n",
      "    LineCode                          Description      c_00000\n",
      "1      20.0           Wage and salary employment  151825000.0\n",
      "3      50.0          Farm proprietors employment    1812000.0\n",
      "4      60.0    Nonfarm proprietors employment 2/   42495200.0\n",
      "\n",
      "     LineCode                              Description      c_00000\n",
      "5       70.0                          Farm employment    2631000.0\n",
      "7       90.0               Private nonfarm employment  169096200.0\n",
      "27    2000.0    Government and government enterprises   24405000.0\n",
      "\n",
      "     LineCode                                        Description     c_00000\n",
      "5       70.0                                    Farm employment   2631000.0\n",
      "8      100.0          Forestry, fishing, and related activities    926400.0\n",
      "9      200.0      Mining, quarrying, and oil and gas extraction   1511100.0\n",
      "10     300.0                                          Utilities    663500.0\n",
      "11     400.0                                       Construction  10634600.0\n",
      "12     500.0                                      Manufacturing  13304800.0\n",
      "13     600.0                                    Wholesale trade   6478900.0\n",
      "14     700.0                                       Retail trade  19222200.0\n",
      "15     800.0                     Transportation and warehousing   7663800.0\n",
      "16     900.0                                        Information   3384400.0\n",
      "17    1000.0                              Finance and insurance  10510200.0\n",
      "18    1100.0                 Real estate and rental and leasing   9105900.0\n",
      "19    1200.0     Professional, scientific, and technical ser...  13721000.0\n",
      "20    1300.0            Management of companies and enterprises   2667400.0\n",
      "21    1400.0     Administrative and support and waste manage...  12088500.0\n",
      "22    1500.0                               Educational services   4691200.0\n",
      "23    1600.0                  Health care and social assistance  22201200.0\n",
      "24    1700.0                Arts, entertainment, and recreation   4455500.0\n",
      "25    1800.0                    Accommodation and food services  14697400.0\n",
      "26    1900.0     Other services (except government and gover...  11168200.0\n",
      "28    2001.0                                   Federal civilian   2857000.0\n",
      "29    2002.0                                           Military   1929000.0\n",
      "31    2011.0                                   State government   5365000.0\n",
      "32    2012.0                                   Local government  14254000.0\n"
     ]
    }
   ],
   "source": [
    "for profile in aggregation_profiles:\n",
    "    us = data[['LineCode', 'Description', 'c_00000']]\n",
    "    us = us[us.LineCode.isin(profile)]\n",
    "    print(\"\\n\", us)"
   ]
  },
  {
   "cell_type": "code",
   "execution_count": 16,
   "metadata": {},
   "outputs": [],
   "source": [
    "us = data [['LineCode', 'Description', 'c_00000']]"
   ]
  },
  {
   "cell_type": "code",
   "execution_count": 17,
   "metadata": {},
   "outputs": [
    {
     "name": "stdout",
     "output_type": "stream",
     "text": [
      "196132200.0\n",
      "196132200.0\n",
      "196132200.0\n",
      "196132200.0\n"
     ]
    }
   ],
   "source": [
    "for profile in aggregation_profiles:\n",
    "    print(us[us.LineCode.isin(profile)][\"c_00000\"].sum())"
   ]
  },
  {
   "cell_type": "code",
   "execution_count": 26,
   "metadata": {},
   "outputs": [
    {
     "data": {
      "text/plain": [
       "23584800.0"
      ]
     },
     "execution_count": 26,
     "metadata": {},
     "output_type": "execute_result"
    }
   ],
   "source": [
    "cal = data[['LineCode', 'Description', 'c_06000']] #make a dataframe for CA\n",
    "cal[cal.LineCode.isin(d4)]['c_06000'].sum()"
   ]
  },
  {
   "cell_type": "code",
   "execution_count": 19,
   "metadata": {},
   "outputs": [
    {
     "data": {
      "text/html": [
       "<div>\n",
       "<style scoped>\n",
       "    .dataframe tbody tr th:only-of-type {\n",
       "        vertical-align: middle;\n",
       "    }\n",
       "\n",
       "    .dataframe tbody tr th {\n",
       "        vertical-align: top;\n",
       "    }\n",
       "\n",
       "    .dataframe thead th {\n",
       "        text-align: right;\n",
       "    }\n",
       "</style>\n",
       "<table border=\"1\" class=\"dataframe\">\n",
       "  <thead>\n",
       "    <tr style=\"text-align: right;\">\n",
       "      <th></th>\n",
       "      <th>LineCode</th>\n",
       "      <th>Description</th>\n",
       "      <th>c_06000</th>\n",
       "    </tr>\n",
       "  </thead>\n",
       "  <tbody>\n",
       "    <tr>\n",
       "      <th>5</th>\n",
       "      <td>70.0</td>\n",
       "      <td>Farm employment</td>\n",
       "      <td>237065.0</td>\n",
       "    </tr>\n",
       "    <tr>\n",
       "      <th>8</th>\n",
       "      <td>100.0</td>\n",
       "      <td>Forestry, fishing, and related activities</td>\n",
       "      <td>249997.0</td>\n",
       "    </tr>\n",
       "    <tr>\n",
       "      <th>9</th>\n",
       "      <td>200.0</td>\n",
       "      <td>Mining, quarrying, and oil and gas extraction</td>\n",
       "      <td>60099.0</td>\n",
       "    </tr>\n",
       "    <tr>\n",
       "      <th>10</th>\n",
       "      <td>300.0</td>\n",
       "      <td>Utilities</td>\n",
       "      <td>67673.0</td>\n",
       "    </tr>\n",
       "    <tr>\n",
       "      <th>11</th>\n",
       "      <td>400.0</td>\n",
       "      <td>Construction</td>\n",
       "      <td>1158298.0</td>\n",
       "    </tr>\n",
       "    <tr>\n",
       "      <th>12</th>\n",
       "      <td>500.0</td>\n",
       "      <td>Manufacturing</td>\n",
       "      <td>1430171.0</td>\n",
       "    </tr>\n",
       "    <tr>\n",
       "      <th>13</th>\n",
       "      <td>600.0</td>\n",
       "      <td>Wholesale trade</td>\n",
       "      <td>805009.0</td>\n",
       "    </tr>\n",
       "    <tr>\n",
       "      <th>14</th>\n",
       "      <td>700.0</td>\n",
       "      <td>Retail trade</td>\n",
       "      <td>2089996.0</td>\n",
       "    </tr>\n",
       "    <tr>\n",
       "      <th>15</th>\n",
       "      <td>800.0</td>\n",
       "      <td>Transportation and warehousing</td>\n",
       "      <td>995167.0</td>\n",
       "    </tr>\n",
       "    <tr>\n",
       "      <th>16</th>\n",
       "      <td>900.0</td>\n",
       "      <td>Information</td>\n",
       "      <td>620677.0</td>\n",
       "    </tr>\n",
       "    <tr>\n",
       "      <th>17</th>\n",
       "      <td>1000.0</td>\n",
       "      <td>Finance and insurance</td>\n",
       "      <td>1099286.0</td>\n",
       "    </tr>\n",
       "    <tr>\n",
       "      <th>18</th>\n",
       "      <td>1100.0</td>\n",
       "      <td>Real estate and rental and leasing</td>\n",
       "      <td>1184055.0</td>\n",
       "    </tr>\n",
       "    <tr>\n",
       "      <th>19</th>\n",
       "      <td>1200.0</td>\n",
       "      <td>Professional, scientific, and technical ser...</td>\n",
       "      <td>1995511.0</td>\n",
       "    </tr>\n",
       "    <tr>\n",
       "      <th>20</th>\n",
       "      <td>1300.0</td>\n",
       "      <td>Management of companies and enterprises</td>\n",
       "      <td>265925.0</td>\n",
       "    </tr>\n",
       "    <tr>\n",
       "      <th>21</th>\n",
       "      <td>1400.0</td>\n",
       "      <td>Administrative and support and waste manage...</td>\n",
       "      <td>1507593.0</td>\n",
       "    </tr>\n",
       "    <tr>\n",
       "      <th>22</th>\n",
       "      <td>1500.0</td>\n",
       "      <td>Educational services</td>\n",
       "      <td>533991.0</td>\n",
       "    </tr>\n",
       "    <tr>\n",
       "      <th>23</th>\n",
       "      <td>1600.0</td>\n",
       "      <td>Health care and social assistance</td>\n",
       "      <td>2652241.0</td>\n",
       "    </tr>\n",
       "    <tr>\n",
       "      <th>24</th>\n",
       "      <td>1700.0</td>\n",
       "      <td>Arts, entertainment, and recreation</td>\n",
       "      <td>653153.0</td>\n",
       "    </tr>\n",
       "    <tr>\n",
       "      <th>25</th>\n",
       "      <td>1800.0</td>\n",
       "      <td>Accommodation and food services</td>\n",
       "      <td>1784797.0</td>\n",
       "    </tr>\n",
       "    <tr>\n",
       "      <th>26</th>\n",
       "      <td>1900.0</td>\n",
       "      <td>Other services (except government and gover...</td>\n",
       "      <td>1413195.0</td>\n",
       "    </tr>\n",
       "    <tr>\n",
       "      <th>28</th>\n",
       "      <td>2001.0</td>\n",
       "      <td>Federal civilian</td>\n",
       "      <td>248950.0</td>\n",
       "    </tr>\n",
       "    <tr>\n",
       "      <th>29</th>\n",
       "      <td>2002.0</td>\n",
       "      <td>Military</td>\n",
       "      <td>206431.0</td>\n",
       "    </tr>\n",
       "    <tr>\n",
       "      <th>31</th>\n",
       "      <td>2011.0</td>\n",
       "      <td>State government</td>\n",
       "      <td>535057.0</td>\n",
       "    </tr>\n",
       "    <tr>\n",
       "      <th>32</th>\n",
       "      <td>2012.0</td>\n",
       "      <td>Local government</td>\n",
       "      <td>1790463.0</td>\n",
       "    </tr>\n",
       "  </tbody>\n",
       "</table>\n",
       "</div>"
      ],
      "text/plain": [
       "    LineCode                                        Description    c_06000\n",
       "5       70.0                                    Farm employment   237065.0\n",
       "8      100.0          Forestry, fishing, and related activities   249997.0\n",
       "9      200.0      Mining, quarrying, and oil and gas extraction    60099.0\n",
       "10     300.0                                          Utilities    67673.0\n",
       "11     400.0                                       Construction  1158298.0\n",
       "12     500.0                                      Manufacturing  1430171.0\n",
       "13     600.0                                    Wholesale trade   805009.0\n",
       "14     700.0                                       Retail trade  2089996.0\n",
       "15     800.0                     Transportation and warehousing   995167.0\n",
       "16     900.0                                        Information   620677.0\n",
       "17    1000.0                              Finance and insurance  1099286.0\n",
       "18    1100.0                 Real estate and rental and leasing  1184055.0\n",
       "19    1200.0     Professional, scientific, and technical ser...  1995511.0\n",
       "20    1300.0            Management of companies and enterprises   265925.0\n",
       "21    1400.0     Administrative and support and waste manage...  1507593.0\n",
       "22    1500.0                               Educational services   533991.0\n",
       "23    1600.0                  Health care and social assistance  2652241.0\n",
       "24    1700.0                Arts, entertainment, and recreation   653153.0\n",
       "25    1800.0                    Accommodation and food services  1784797.0\n",
       "26    1900.0     Other services (except government and gover...  1413195.0\n",
       "28    2001.0                                   Federal civilian   248950.0\n",
       "29    2002.0                                           Military   206431.0\n",
       "31    2011.0                                   State government   535057.0\n",
       "32    2012.0                                   Local government  1790463.0"
      ]
     },
     "execution_count": 19,
     "metadata": {},
     "output_type": "execute_result"
    }
   ],
   "source": [
    "cald4 = cal[cal.LineCode.isin(d4)]\n",
    "cald4"
   ]
  },
  {
   "cell_type": "code",
   "execution_count": 20,
   "metadata": {},
   "outputs": [],
   "source": [
    "import matplotlib.pylab as plt\n",
    "import seaborn as sns"
   ]
  },
  {
   "cell_type": "code",
   "execution_count": 21,
   "metadata": {},
   "outputs": [
    {
     "data": {
      "text/plain": [
       "<matplotlib.axes._subplots.AxesSubplot at 0x17cd133bfd0>"
      ]
     },
     "execution_count": 21,
     "metadata": {},
     "output_type": "execute_result"
    },
    {
     "data": {
      "image/png": "[encoded data removed]",
      "text/plain": [
       "<Figure size 432x288 with 1 Axes>"
      ]
     },
     "metadata": {
      "needs_background": "light"
     },
     "output_type": "display_data"
    }
   ],
   "source": [
    "sns.barplot(x='c_06000', y='Description', data=cald4)"
   ]
  },
  {
   "cell_type": "code",
   "execution_count": 25,
   "metadata": {},
   "outputs": [
    {
     "data": {
      "image/png": "[encoded data removed]",
      "text/plain": [
       "<Figure size 864x576 with 1 Axes>"
      ]
     },
     "metadata": {
      "needs_background": "light"
     },
     "output_type": "display_data"
    }
   ],
   "source": [
    "plt.figure(figsize=(12,8))\n",
    "ax=sns.barplot(x='c_06000', y='Description', data=cald4)\n",
    "plt.show()"
   ]
  },
  {
   "cell_type": "code",
   "execution_count": 29,
   "metadata": {},
   "outputs": [],
   "source": [
    "usd4 = us[us.LineCode.isin(d4)]"
   ]
  },
  {
   "cell_type": "code",
   "execution_count": 30,
   "metadata": {},
   "outputs": [
    {
     "data": {
      "text/plain": [
       "<matplotlib.axes._subplots.AxesSubplot at 0x17cd2ccd8d0>"
      ]
     },
     "execution_count": 30,
     "metadata": {},
     "output_type": "execute_result"
    },
    {
     "data": {
      "image/png": "[encoded data removed]",
      "text/plain": [
       "<Figure size 432x288 with 1 Axes>"
      ]
     },
     "metadata": {
      "needs_background": "light"
     },
     "output_type": "display_data"
    }
   ],
   "source": [
    "sns.barplot(x='c_00000', y='Description', data=usd4)"
   ]
  },
  {
   "cell_type": "code",
   "execution_count": 31,
   "metadata": {},
   "outputs": [
    {
     "name": "stdout",
     "output_type": "stream",
     "text": [
      "23584800.0\n",
      "23584800.0\n",
      "23584800.0\n",
      "23584800.0\n"
     ]
    }
   ],
   "source": [
    "for d in aggregation_profiles:\n",
    "    print(cal[cal.LineCode.isin(d)]['c_06000'].sum()) #loop over all aggregations"
   ]
  },
  {
   "cell_type": "code",
   "execution_count": null,
   "metadata": {},
   "outputs": [],
   "source": []
  },
  {
   "cell_type": "markdown",
   "metadata": {},
   "source": [
    "## Location Quotients\n",
    "\n",
    "$$LQ_i = (e_i/e) / (E_i/E)$$\n",
    "\n",
    "where $e_i$ is employment in the region in industry $i$,\n",
    "$e$ is total employment in the region,\n",
    "$E_i$ is employment in the nation in industry $i$,\n",
    "and $E$ is total national employment.\n",
    "\n",
    "If $LQ_i > 1.0$ then $i$ is an export base sector.\n",
    "If $LQ_i <= 1.0$ then $i$ is a local sector"
   ]
  },
  {
   "cell_type": "markdown",
   "metadata": {},
   "source": [
    "----\n",
    "Let $e_i$ represent employment in the region if industry $i$, $E_i$ be employment in the comparison economy in the same industry.\n",
    "\n",
    "Total employment in the region is given by :\n",
    "$$e=\\sum_{i=1}^n e_i$$\n",
    "\n",
    "and, total employment in the benchmark economy is:\n",
    "$$E=\\sum_{i=1}^n E_i$$"
   ]
  },
  {
   "cell_type": "code",
   "execution_count": 32,
   "metadata": {},
   "outputs": [],
   "source": [
    "ei=cald4['c_06000']\n",
    "Ei=usd4['c_00000']"
   ]
  },
  {
   "cell_type": "code",
   "execution_count": 33,
   "metadata": {},
   "outputs": [],
   "source": [
    "pi=ei/ei.sum()\n",
    "Pi=Ei/Ei.sum()\n",
    "lq = pi/Pi"
   ]
  },
  {
   "cell_type": "code",
   "execution_count": 34,
   "metadata": {},
   "outputs": [
    {
     "data": {
      "text/plain": [
       "5     0.749313\n",
       "8     2.244156\n",
       "9     0.330743\n",
       "10    0.848186\n",
       "11    0.905766\n",
       "12    0.893915\n",
       "13    1.033276\n",
       "14    0.904189\n",
       "15    1.079863\n",
       "16    1.525108\n",
       "17    0.869794\n",
       "18    1.081349\n",
       "19    1.209442\n",
       "20    0.829063\n",
       "21    1.037119\n",
       "22    0.946600\n",
       "23    0.993467\n",
       "24    1.219088\n",
       "25    1.009869\n",
       "26    1.052290\n",
       "28    0.724634\n",
       "29    0.889937\n",
       "31    0.829368\n",
       "32    1.044589\n",
       "dtype: float64"
      ]
     },
     "execution_count": 34,
     "metadata": {},
     "output_type": "execute_result"
    }
   ],
   "source": [
    "lq"
   ]
  },
  {
   "cell_type": "code",
   "execution_count": 36,
   "metadata": {},
   "outputs": [],
   "source": [
    "cald4['lq']=lq"
   ]
  },
  {
   "cell_type": "code",
   "execution_count": 37,
   "metadata": {},
   "outputs": [
    {
     "data": {
      "text/html": [
       "<div>\n",
       "<style scoped>\n",
       "    .dataframe tbody tr th:only-of-type {\n",
       "        vertical-align: middle;\n",
       "    }\n",
       "\n",
       "    .dataframe tbody tr th {\n",
       "        vertical-align: top;\n",
       "    }\n",
       "\n",
       "    .dataframe thead th {\n",
       "        text-align: right;\n",
       "    }\n",
       "</style>\n",
       "<table border=\"1\" class=\"dataframe\">\n",
       "  <thead>\n",
       "    <tr style=\"text-align: right;\">\n",
       "      <th></th>\n",
       "      <th>LineCode</th>\n",
       "      <th>Description</th>\n",
       "      <th>c_06000</th>\n",
       "      <th>lq</th>\n",
       "    </tr>\n",
       "  </thead>\n",
       "  <tbody>\n",
       "    <tr>\n",
       "      <th>5</th>\n",
       "      <td>70.0</td>\n",
       "      <td>Farm employment</td>\n",
       "      <td>237065.0</td>\n",
       "      <td>0.749313</td>\n",
       "    </tr>\n",
       "    <tr>\n",
       "      <th>8</th>\n",
       "      <td>100.0</td>\n",
       "      <td>Forestry, fishing, and related activities</td>\n",
       "      <td>249997.0</td>\n",
       "      <td>2.244156</td>\n",
       "    </tr>\n",
       "    <tr>\n",
       "      <th>9</th>\n",
       "      <td>200.0</td>\n",
       "      <td>Mining, quarrying, and oil and gas extraction</td>\n",
       "      <td>60099.0</td>\n",
       "      <td>0.330743</td>\n",
       "    </tr>\n",
       "    <tr>\n",
       "      <th>10</th>\n",
       "      <td>300.0</td>\n",
       "      <td>Utilities</td>\n",
       "      <td>67673.0</td>\n",
       "      <td>0.848186</td>\n",
       "    </tr>\n",
       "    <tr>\n",
       "      <th>11</th>\n",
       "      <td>400.0</td>\n",
       "      <td>Construction</td>\n",
       "      <td>1158298.0</td>\n",
       "      <td>0.905766</td>\n",
       "    </tr>\n",
       "    <tr>\n",
       "      <th>12</th>\n",
       "      <td>500.0</td>\n",
       "      <td>Manufacturing</td>\n",
       "      <td>1430171.0</td>\n",
       "      <td>0.893915</td>\n",
       "    </tr>\n",
       "    <tr>\n",
       "      <th>13</th>\n",
       "      <td>600.0</td>\n",
       "      <td>Wholesale trade</td>\n",
       "      <td>805009.0</td>\n",
       "      <td>1.033276</td>\n",
       "    </tr>\n",
       "    <tr>\n",
       "      <th>14</th>\n",
       "      <td>700.0</td>\n",
       "      <td>Retail trade</td>\n",
       "      <td>2089996.0</td>\n",
       "      <td>0.904189</td>\n",
       "    </tr>\n",
       "    <tr>\n",
       "      <th>15</th>\n",
       "      <td>800.0</td>\n",
       "      <td>Transportation and warehousing</td>\n",
       "      <td>995167.0</td>\n",
       "      <td>1.079863</td>\n",
       "    </tr>\n",
       "    <tr>\n",
       "      <th>16</th>\n",
       "      <td>900.0</td>\n",
       "      <td>Information</td>\n",
       "      <td>620677.0</td>\n",
       "      <td>1.525108</td>\n",
       "    </tr>\n",
       "    <tr>\n",
       "      <th>17</th>\n",
       "      <td>1000.0</td>\n",
       "      <td>Finance and insurance</td>\n",
       "      <td>1099286.0</td>\n",
       "      <td>0.869794</td>\n",
       "    </tr>\n",
       "    <tr>\n",
       "      <th>18</th>\n",
       "      <td>1100.0</td>\n",
       "      <td>Real estate and rental and leasing</td>\n",
       "      <td>1184055.0</td>\n",
       "      <td>1.081349</td>\n",
       "    </tr>\n",
       "    <tr>\n",
       "      <th>19</th>\n",
       "      <td>1200.0</td>\n",
       "      <td>Professional, scientific, and technical ser...</td>\n",
       "      <td>1995511.0</td>\n",
       "      <td>1.209442</td>\n",
       "    </tr>\n",
       "    <tr>\n",
       "      <th>20</th>\n",
       "      <td>1300.0</td>\n",
       "      <td>Management of companies and enterprises</td>\n",
       "      <td>265925.0</td>\n",
       "      <td>0.829063</td>\n",
       "    </tr>\n",
       "    <tr>\n",
       "      <th>21</th>\n",
       "      <td>1400.0</td>\n",
       "      <td>Administrative and support and waste manage...</td>\n",
       "      <td>1507593.0</td>\n",
       "      <td>1.037119</td>\n",
       "    </tr>\n",
       "    <tr>\n",
       "      <th>22</th>\n",
       "      <td>1500.0</td>\n",
       "      <td>Educational services</td>\n",
       "      <td>533991.0</td>\n",
       "      <td>0.946600</td>\n",
       "    </tr>\n",
       "    <tr>\n",
       "      <th>23</th>\n",
       "      <td>1600.0</td>\n",
       "      <td>Health care and social assistance</td>\n",
       "      <td>2652241.0</td>\n",
       "      <td>0.993467</td>\n",
       "    </tr>\n",
       "    <tr>\n",
       "      <th>24</th>\n",
       "      <td>1700.0</td>\n",
       "      <td>Arts, entertainment, and recreation</td>\n",
       "      <td>653153.0</td>\n",
       "      <td>1.219088</td>\n",
       "    </tr>\n",
       "    <tr>\n",
       "      <th>25</th>\n",
       "      <td>1800.0</td>\n",
       "      <td>Accommodation and food services</td>\n",
       "      <td>1784797.0</td>\n",
       "      <td>1.009869</td>\n",
       "    </tr>\n",
       "    <tr>\n",
       "      <th>26</th>\n",
       "      <td>1900.0</td>\n",
       "      <td>Other services (except government and gover...</td>\n",
       "      <td>1413195.0</td>\n",
       "      <td>1.052290</td>\n",
       "    </tr>\n",
       "    <tr>\n",
       "      <th>28</th>\n",
       "      <td>2001.0</td>\n",
       "      <td>Federal civilian</td>\n",
       "      <td>248950.0</td>\n",
       "      <td>0.724634</td>\n",
       "    </tr>\n",
       "    <tr>\n",
       "      <th>29</th>\n",
       "      <td>2002.0</td>\n",
       "      <td>Military</td>\n",
       "      <td>206431.0</td>\n",
       "      <td>0.889937</td>\n",
       "    </tr>\n",
       "    <tr>\n",
       "      <th>31</th>\n",
       "      <td>2011.0</td>\n",
       "      <td>State government</td>\n",
       "      <td>535057.0</td>\n",
       "      <td>0.829368</td>\n",
       "    </tr>\n",
       "    <tr>\n",
       "      <th>32</th>\n",
       "      <td>2012.0</td>\n",
       "      <td>Local government</td>\n",
       "      <td>1790463.0</td>\n",
       "      <td>1.044589</td>\n",
       "    </tr>\n",
       "  </tbody>\n",
       "</table>\n",
       "</div>"
      ],
      "text/plain": [
       "    LineCode                                        Description    c_06000  \\\n",
       "5       70.0                                    Farm employment   237065.0   \n",
       "8      100.0          Forestry, fishing, and related activities   249997.0   \n",
       "9      200.0      Mining, quarrying, and oil and gas extraction    60099.0   \n",
       "10     300.0                                          Utilities    67673.0   \n",
       "11     400.0                                       Construction  1158298.0   \n",
       "12     500.0                                      Manufacturing  1430171.0   \n",
       "13     600.0                                    Wholesale trade   805009.0   \n",
       "14     700.0                                       Retail trade  2089996.0   \n",
       "15     800.0                     Transportation and warehousing   995167.0   \n",
       "16     900.0                                        Information   620677.0   \n",
       "17    1000.0                              Finance and insurance  1099286.0   \n",
       "18    1100.0                 Real estate and rental and leasing  1184055.0   \n",
       "19    1200.0     Professional, scientific, and technical ser...  1995511.0   \n",
       "20    1300.0            Management of companies and enterprises   265925.0   \n",
       "21    1400.0     Administrative and support and waste manage...  1507593.0   \n",
       "22    1500.0                               Educational services   533991.0   \n",
       "23    1600.0                  Health care and social assistance  2652241.0   \n",
       "24    1700.0                Arts, entertainment, and recreation   653153.0   \n",
       "25    1800.0                    Accommodation and food services  1784797.0   \n",
       "26    1900.0     Other services (except government and gover...  1413195.0   \n",
       "28    2001.0                                   Federal civilian   248950.0   \n",
       "29    2002.0                                           Military   206431.0   \n",
       "31    2011.0                                   State government   535057.0   \n",
       "32    2012.0                                   Local government  1790463.0   \n",
       "\n",
       "          lq  \n",
       "5   0.749313  \n",
       "8   2.244156  \n",
       "9   0.330743  \n",
       "10  0.848186  \n",
       "11  0.905766  \n",
       "12  0.893915  \n",
       "13  1.033276  \n",
       "14  0.904189  \n",
       "15  1.079863  \n",
       "16  1.525108  \n",
       "17  0.869794  \n",
       "18  1.081349  \n",
       "19  1.209442  \n",
       "20  0.829063  \n",
       "21  1.037119  \n",
       "22  0.946600  \n",
       "23  0.993467  \n",
       "24  1.219088  \n",
       "25  1.009869  \n",
       "26  1.052290  \n",
       "28  0.724634  \n",
       "29  0.889937  \n",
       "31  0.829368  \n",
       "32  1.044589  "
      ]
     },
     "execution_count": 37,
     "metadata": {},
     "output_type": "execute_result"
    }
   ],
   "source": [
    "cald4"
   ]
  },
  {
   "cell_type": "markdown",
   "metadata": {},
   "source": [
    "## Basic Employment"
   ]
  },
  {
   "cell_type": "code",
   "execution_count": 38,
   "metadata": {},
   "outputs": [],
   "source": [
    "bi = (cald4.lq>1)*ei #in the parentheses in a boolean - 1 when true and 0 when false"
   ]
  },
  {
   "cell_type": "code",
   "execution_count": 39,
   "metadata": {},
   "outputs": [
    {
     "data": {
      "text/plain": [
       "5           0.0\n",
       "8      249997.0\n",
       "9           0.0\n",
       "10          0.0\n",
       "11          0.0\n",
       "12          0.0\n",
       "13     805009.0\n",
       "14          0.0\n",
       "15     995167.0\n",
       "16     620677.0\n",
       "17          0.0\n",
       "18    1184055.0\n",
       "19    1995511.0\n",
       "20          0.0\n",
       "21    1507593.0\n",
       "22          0.0\n",
       "23          0.0\n",
       "24     653153.0\n",
       "25    1784797.0\n",
       "26    1413195.0\n",
       "28          0.0\n",
       "29          0.0\n",
       "31          0.0\n",
       "32    1790463.0\n",
       "dtype: float64"
      ]
     },
     "execution_count": 39,
     "metadata": {},
     "output_type": "execute_result"
    }
   ],
   "source": [
    "bi"
   ]
  },
  {
   "cell_type": "markdown",
   "metadata": {},
   "source": [
    "## Economic Base Multiplier\n",
    "\n",
    "T = B+N\n",
    "\n",
    "alpha = the ratio of nonbasic to basic jobs, assumed to be fixed\n",
    "\n",
    "N= alphaB\n",
    "\n",
    "T=B+alphaB\n",
    "\n",
    "T = (1+alpha)B\n",
    "\n",
    "(1+alpha)=T/B\n"
   ]
  },
  {
   "cell_type": "code",
   "execution_count": 40,
   "metadata": {},
   "outputs": [
    {
     "data": {
      "text/plain": [
       "1.8142688357664691"
      ]
     },
     "execution_count": 40,
     "metadata": {},
     "output_type": "execute_result"
    }
   ],
   "source": [
    "multiplier = ei.sum()/bi.sum()\n",
    "multiplier"
   ]
  },
  {
   "cell_type": "code",
   "execution_count": 41,
   "metadata": {},
   "outputs": [],
   "source": [
    "cald1=cal[cal.LineCode.isin(d1)]"
   ]
  },
  {
   "cell_type": "code",
   "execution_count": 42,
   "metadata": {},
   "outputs": [
    {
     "data": {
      "text/html": [
       "<div>\n",
       "<style scoped>\n",
       "    .dataframe tbody tr th:only-of-type {\n",
       "        vertical-align: middle;\n",
       "    }\n",
       "\n",
       "    .dataframe tbody tr th {\n",
       "        vertical-align: top;\n",
       "    }\n",
       "\n",
       "    .dataframe thead th {\n",
       "        text-align: right;\n",
       "    }\n",
       "</style>\n",
       "<table border=\"1\" class=\"dataframe\">\n",
       "  <thead>\n",
       "    <tr style=\"text-align: right;\">\n",
       "      <th></th>\n",
       "      <th>LineCode</th>\n",
       "      <th>Description</th>\n",
       "      <th>c_06000</th>\n",
       "    </tr>\n",
       "  </thead>\n",
       "  <tbody>\n",
       "    <tr>\n",
       "      <th>1</th>\n",
       "      <td>20.0</td>\n",
       "      <td>Wage and salary employment</td>\n",
       "      <td>17908517.0</td>\n",
       "    </tr>\n",
       "    <tr>\n",
       "      <th>2</th>\n",
       "      <td>40.0</td>\n",
       "      <td>Proprietors employment</td>\n",
       "      <td>5676283.0</td>\n",
       "    </tr>\n",
       "  </tbody>\n",
       "</table>\n",
       "</div>"
      ],
      "text/plain": [
       "   LineCode                  Description     c_06000\n",
       "1      20.0   Wage and salary employment  17908517.0\n",
       "2      40.0       Proprietors employment   5676283.0"
      ]
     },
     "execution_count": 42,
     "metadata": {},
     "output_type": "execute_result"
    }
   ],
   "source": [
    "cald1"
   ]
  },
  {
   "cell_type": "code",
   "execution_count": 46,
   "metadata": {},
   "outputs": [],
   "source": [
    "usd1 = us[us.LineCode.isin(d1)]"
   ]
  },
  {
   "cell_type": "markdown",
   "metadata": {},
   "source": [
    "## Functions"
   ]
  },
  {
   "cell_type": "code",
   "execution_count": 44,
   "metadata": {},
   "outputs": [],
   "source": [
    "def lq(region,base):\n",
    "    Pi=base/base.sum()\n",
    "    pi=region/region.sum()\n",
    "    return pi/Pi"
   ]
  },
  {
   "cell_type": "code",
   "execution_count": 47,
   "metadata": {},
   "outputs": [
    {
     "data": {
      "text/plain": [
       "1    0.980919\n",
       "2    1.065385\n",
       "dtype: float64"
      ]
     },
     "execution_count": 47,
     "metadata": {},
     "output_type": "execute_result"
    }
   ],
   "source": [
    "lq(cald1.c_06000, usd1.c_00000)"
   ]
  },
  {
   "cell_type": "code",
   "execution_count": 48,
   "metadata": {},
   "outputs": [],
   "source": [
    "lq1 = lq(cald1.c_06000, usd1.c_00000)"
   ]
  },
  {
   "cell_type": "code",
   "execution_count": 49,
   "metadata": {},
   "outputs": [
    {
     "data": {
      "text/plain": [
       "1    0.980919\n",
       "2    1.065385\n",
       "dtype: float64"
      ]
     },
     "execution_count": 49,
     "metadata": {},
     "output_type": "execute_result"
    }
   ],
   "source": [
    "lq1"
   ]
  },
  {
   "cell_type": "code",
   "execution_count": 50,
   "metadata": {},
   "outputs": [],
   "source": [
    "b1 = cald1.c_06000*(lq1>1)"
   ]
  },
  {
   "cell_type": "code",
   "execution_count": 52,
   "metadata": {},
   "outputs": [
    {
     "data": {
      "text/plain": [
       "4.154972541009672"
      ]
     },
     "execution_count": 52,
     "metadata": {},
     "output_type": "execute_result"
    }
   ],
   "source": [
    "m1 = cald1.c_06000.sum()/b1.sum()\n",
    "m1"
   ]
  },
  {
   "cell_type": "code",
   "execution_count": 53,
   "metadata": {},
   "outputs": [],
   "source": [
    "columns = data.columns"
   ]
  },
  {
   "cell_type": "code",
   "execution_count": 54,
   "metadata": {},
   "outputs": [],
   "source": [
    "counties = data.columns[5:]"
   ]
  },
  {
   "cell_type": "code",
   "execution_count": 57,
   "metadata": {},
   "outputs": [],
   "source": [
    "def basic(region,base):\n",
    "    lq_est = lq(region,base)\n",
    "    return(lq_est>1)*region"
   ]
  },
  {
   "cell_type": "code",
   "execution_count": 58,
   "metadata": {},
   "outputs": [
    {
     "data": {
      "text/plain": [
       "5           0.0\n",
       "8      249997.0\n",
       "9           0.0\n",
       "10          0.0\n",
       "11          0.0\n",
       "12          0.0\n",
       "13     805009.0\n",
       "14          0.0\n",
       "15     995167.0\n",
       "16     620677.0\n",
       "17          0.0\n",
       "18    1184055.0\n",
       "19    1995511.0\n",
       "20          0.0\n",
       "21    1507593.0\n",
       "22          0.0\n",
       "23          0.0\n",
       "24     653153.0\n",
       "25    1784797.0\n",
       "26    1413195.0\n",
       "28          0.0\n",
       "29          0.0\n",
       "31          0.0\n",
       "32    1790463.0\n",
       "dtype: float64"
      ]
     },
     "execution_count": 58,
     "metadata": {},
     "output_type": "execute_result"
    }
   ],
   "source": [
    "basic(cald4.c_06000, usd4.c_00000)"
   ]
  },
  {
   "cell_type": "code",
   "execution_count": 59,
   "metadata": {},
   "outputs": [],
   "source": [
    "def eb_multiplier(region, base):\n",
    "    b=basic(region,base)\n",
    "    T=region.sum()\n",
    "    return T/b.sum()\n"
   ]
  },
  {
   "cell_type": "code",
   "execution_count": 60,
   "metadata": {},
   "outputs": [
    {
     "data": {
      "text/plain": [
       "1.8142688357664691"
      ]
     },
     "execution_count": 60,
     "metadata": {},
     "output_type": "execute_result"
    }
   ],
   "source": [
    "eb_multiplier(cald4.c_06000, usd4.c_00000)\n",
    "\n",
    "##to do: we write a loop putting in counties instead of cald4. us stays the same"
   ]
  },
  {
   "cell_type": "code",
   "execution_count": 61,
   "metadata": {},
   "outputs": [
    {
     "data": {
      "text/plain": [
       "(24, 4)"
      ]
     },
     "execution_count": 61,
     "metadata": {},
     "output_type": "execute_result"
    }
   ],
   "source": [
    "cald4.shape"
   ]
  },
  {
   "cell_type": "code",
   "execution_count": 62,
   "metadata": {},
   "outputs": [
    {
     "data": {
      "text/html": [
       "<div>\n",
       "<style scoped>\n",
       "    .dataframe tbody tr th:only-of-type {\n",
       "        vertical-align: middle;\n",
       "    }\n",
       "\n",
       "    .dataframe tbody tr th {\n",
       "        vertical-align: top;\n",
       "    }\n",
       "\n",
       "    .dataframe thead th {\n",
       "        text-align: right;\n",
       "    }\n",
       "</style>\n",
       "<table border=\"1\" class=\"dataframe\">\n",
       "  <thead>\n",
       "    <tr style=\"text-align: right;\">\n",
       "      <th></th>\n",
       "      <th>LineCode</th>\n",
       "      <th>Description</th>\n",
       "      <th>c_06000</th>\n",
       "      <th>lq</th>\n",
       "    </tr>\n",
       "  </thead>\n",
       "  <tbody>\n",
       "    <tr>\n",
       "      <th>5</th>\n",
       "      <td>70.0</td>\n",
       "      <td>Farm employment</td>\n",
       "      <td>237065.0</td>\n",
       "      <td>0.749313</td>\n",
       "    </tr>\n",
       "    <tr>\n",
       "      <th>8</th>\n",
       "      <td>100.0</td>\n",
       "      <td>Forestry, fishing, and related activities</td>\n",
       "      <td>249997.0</td>\n",
       "      <td>2.244156</td>\n",
       "    </tr>\n",
       "    <tr>\n",
       "      <th>9</th>\n",
       "      <td>200.0</td>\n",
       "      <td>Mining, quarrying, and oil and gas extraction</td>\n",
       "      <td>60099.0</td>\n",
       "      <td>0.330743</td>\n",
       "    </tr>\n",
       "    <tr>\n",
       "      <th>10</th>\n",
       "      <td>300.0</td>\n",
       "      <td>Utilities</td>\n",
       "      <td>67673.0</td>\n",
       "      <td>0.848186</td>\n",
       "    </tr>\n",
       "    <tr>\n",
       "      <th>11</th>\n",
       "      <td>400.0</td>\n",
       "      <td>Construction</td>\n",
       "      <td>1158298.0</td>\n",
       "      <td>0.905766</td>\n",
       "    </tr>\n",
       "  </tbody>\n",
       "</table>\n",
       "</div>"
      ],
      "text/plain": [
       "    LineCode                                       Description    c_06000  \\\n",
       "5       70.0                                   Farm employment   237065.0   \n",
       "8      100.0         Forestry, fishing, and related activities   249997.0   \n",
       "9      200.0     Mining, quarrying, and oil and gas extraction    60099.0   \n",
       "10     300.0                                         Utilities    67673.0   \n",
       "11     400.0                                      Construction  1158298.0   \n",
       "\n",
       "          lq  \n",
       "5   0.749313  \n",
       "8   2.244156  \n",
       "9   0.330743  \n",
       "10  0.848186  \n",
       "11  0.905766  "
      ]
     },
     "execution_count": 62,
     "metadata": {},
     "output_type": "execute_result"
    }
   ],
   "source": [
    "cald4.head()"
   ]
  },
  {
   "cell_type": "markdown",
   "metadata": {},
   "source": [
    " ## exercise part 1"
   ]
  },
  {
   "cell_type": "code",
   "execution_count": 63,
   "metadata": {},
   "outputs": [],
   "source": [
    "rc_fips = \"c_06065\""
   ]
  },
  {
   "cell_type": "code",
   "execution_count": 64,
   "metadata": {},
   "outputs": [
    {
     "data": {
      "text/html": [
       "<div>\n",
       "<style scoped>\n",
       "    .dataframe tbody tr th:only-of-type {\n",
       "        vertical-align: middle;\n",
       "    }\n",
       "\n",
       "    .dataframe tbody tr th {\n",
       "        vertical-align: top;\n",
       "    }\n",
       "\n",
       "    .dataframe thead th {\n",
       "        text-align: right;\n",
       "    }\n",
       "</style>\n",
       "<table border=\"1\" class=\"dataframe\">\n",
       "  <thead>\n",
       "    <tr style=\"text-align: right;\">\n",
       "      <th></th>\n",
       "      <th>LineCode</th>\n",
       "      <th>Description</th>\n",
       "      <th>c_00000</th>\n",
       "      <th>c_06065</th>\n",
       "    </tr>\n",
       "  </thead>\n",
       "  <tbody>\n",
       "    <tr>\n",
       "      <th>0</th>\n",
       "      <td>10.0</td>\n",
       "      <td>Total employment (number of jobs)</td>\n",
       "      <td>196132200.0</td>\n",
       "      <td>1031866.0</td>\n",
       "    </tr>\n",
       "    <tr>\n",
       "      <th>1</th>\n",
       "      <td>20.0</td>\n",
       "      <td>Wage and salary employment</td>\n",
       "      <td>151825000.0</td>\n",
       "      <td>760870.0</td>\n",
       "    </tr>\n",
       "    <tr>\n",
       "      <th>2</th>\n",
       "      <td>40.0</td>\n",
       "      <td>Proprietors employment</td>\n",
       "      <td>44307200.0</td>\n",
       "      <td>270996.0</td>\n",
       "    </tr>\n",
       "    <tr>\n",
       "      <th>3</th>\n",
       "      <td>50.0</td>\n",
       "      <td>Farm proprietors employment</td>\n",
       "      <td>1812000.0</td>\n",
       "      <td>2394.0</td>\n",
       "    </tr>\n",
       "    <tr>\n",
       "      <th>4</th>\n",
       "      <td>60.0</td>\n",
       "      <td>Nonfarm proprietors employment 2/</td>\n",
       "      <td>42495200.0</td>\n",
       "      <td>268602.0</td>\n",
       "    </tr>\n",
       "  </tbody>\n",
       "</table>\n",
       "</div>"
      ],
      "text/plain": [
       "   LineCode                          Description      c_00000    c_06065\n",
       "0      10.0    Total employment (number of jobs)  196132200.0  1031866.0\n",
       "1      20.0           Wage and salary employment  151825000.0   760870.0\n",
       "2      40.0               Proprietors employment   44307200.0   270996.0\n",
       "3      50.0          Farm proprietors employment    1812000.0     2394.0\n",
       "4      60.0    Nonfarm proprietors employment 2/   42495200.0   268602.0"
      ]
     },
     "execution_count": 64,
     "metadata": {},
     "output_type": "execute_result"
    }
   ],
   "source": [
    "rc_df=data[['LineCode', 'Description', 'c_00000', rc_fips]] #make a dataframe for riverside\n",
    "rc_df.head()"
   ]
  },
  {
   "cell_type": "code",
   "execution_count": 65,
   "metadata": {},
   "outputs": [],
   "source": [
    "rc_df_d4 = rc_df[rc_df.LineCode.isin(d4)] #get level 4 disaggregation scheme\n"
   ]
  },
  {
   "cell_type": "code",
   "execution_count": 66,
   "metadata": {},
   "outputs": [
    {
     "data": {
      "text/html": [
       "<div>\n",
       "<style scoped>\n",
       "    .dataframe tbody tr th:only-of-type {\n",
       "        vertical-align: middle;\n",
       "    }\n",
       "\n",
       "    .dataframe tbody tr th {\n",
       "        vertical-align: top;\n",
       "    }\n",
       "\n",
       "    .dataframe thead th {\n",
       "        text-align: right;\n",
       "    }\n",
       "</style>\n",
       "<table border=\"1\" class=\"dataframe\">\n",
       "  <thead>\n",
       "    <tr style=\"text-align: right;\">\n",
       "      <th></th>\n",
       "      <th>LineCode</th>\n",
       "      <th>Description</th>\n",
       "      <th>c_00000</th>\n",
       "      <th>c_06065</th>\n",
       "    </tr>\n",
       "  </thead>\n",
       "  <tbody>\n",
       "    <tr>\n",
       "      <th>5</th>\n",
       "      <td>70.0</td>\n",
       "      <td>Farm employment</td>\n",
       "      <td>2631000.0</td>\n",
       "      <td>8308.0</td>\n",
       "    </tr>\n",
       "    <tr>\n",
       "      <th>8</th>\n",
       "      <td>100.0</td>\n",
       "      <td>Forestry, fishing, and related activities</td>\n",
       "      <td>926400.0</td>\n",
       "      <td>6564.0</td>\n",
       "    </tr>\n",
       "    <tr>\n",
       "      <th>9</th>\n",
       "      <td>200.0</td>\n",
       "      <td>Mining, quarrying, and oil and gas extraction</td>\n",
       "      <td>1511100.0</td>\n",
       "      <td>2253.0</td>\n",
       "    </tr>\n",
       "    <tr>\n",
       "      <th>10</th>\n",
       "      <td>300.0</td>\n",
       "      <td>Utilities</td>\n",
       "      <td>663500.0</td>\n",
       "      <td>2183.0</td>\n",
       "    </tr>\n",
       "    <tr>\n",
       "      <th>11</th>\n",
       "      <td>400.0</td>\n",
       "      <td>Construction</td>\n",
       "      <td>10634600.0</td>\n",
       "      <td>87528.0</td>\n",
       "    </tr>\n",
       "    <tr>\n",
       "      <th>12</th>\n",
       "      <td>500.0</td>\n",
       "      <td>Manufacturing</td>\n",
       "      <td>13304800.0</td>\n",
       "      <td>49478.0</td>\n",
       "    </tr>\n",
       "    <tr>\n",
       "      <th>13</th>\n",
       "      <td>600.0</td>\n",
       "      <td>Wholesale trade</td>\n",
       "      <td>6478900.0</td>\n",
       "      <td>30483.0</td>\n",
       "    </tr>\n",
       "    <tr>\n",
       "      <th>14</th>\n",
       "      <td>700.0</td>\n",
       "      <td>Retail trade</td>\n",
       "      <td>19222200.0</td>\n",
       "      <td>117728.0</td>\n",
       "    </tr>\n",
       "    <tr>\n",
       "      <th>15</th>\n",
       "      <td>800.0</td>\n",
       "      <td>Transportation and warehousing</td>\n",
       "      <td>7663800.0</td>\n",
       "      <td>58705.0</td>\n",
       "    </tr>\n",
       "    <tr>\n",
       "      <th>16</th>\n",
       "      <td>900.0</td>\n",
       "      <td>Information</td>\n",
       "      <td>3384400.0</td>\n",
       "      <td>8853.0</td>\n",
       "    </tr>\n",
       "    <tr>\n",
       "      <th>17</th>\n",
       "      <td>1000.0</td>\n",
       "      <td>Finance and insurance</td>\n",
       "      <td>10510200.0</td>\n",
       "      <td>37133.0</td>\n",
       "    </tr>\n",
       "    <tr>\n",
       "      <th>18</th>\n",
       "      <td>1100.0</td>\n",
       "      <td>Real estate and rental and leasing</td>\n",
       "      <td>9105900.0</td>\n",
       "      <td>49660.0</td>\n",
       "    </tr>\n",
       "    <tr>\n",
       "      <th>19</th>\n",
       "      <td>1200.0</td>\n",
       "      <td>Professional, scientific, and technical ser...</td>\n",
       "      <td>13721000.0</td>\n",
       "      <td>47567.0</td>\n",
       "    </tr>\n",
       "    <tr>\n",
       "      <th>20</th>\n",
       "      <td>1300.0</td>\n",
       "      <td>Management of companies and enterprises</td>\n",
       "      <td>2667400.0</td>\n",
       "      <td>3384.0</td>\n",
       "    </tr>\n",
       "    <tr>\n",
       "      <th>21</th>\n",
       "      <td>1400.0</td>\n",
       "      <td>Administrative and support and waste manage...</td>\n",
       "      <td>12088500.0</td>\n",
       "      <td>77003.0</td>\n",
       "    </tr>\n",
       "    <tr>\n",
       "      <th>22</th>\n",
       "      <td>1500.0</td>\n",
       "      <td>Educational services</td>\n",
       "      <td>4691200.0</td>\n",
       "      <td>13650.0</td>\n",
       "    </tr>\n",
       "    <tr>\n",
       "      <th>23</th>\n",
       "      <td>1600.0</td>\n",
       "      <td>Health care and social assistance</td>\n",
       "      <td>22201200.0</td>\n",
       "      <td>115363.0</td>\n",
       "    </tr>\n",
       "    <tr>\n",
       "      <th>24</th>\n",
       "      <td>1700.0</td>\n",
       "      <td>Arts, entertainment, and recreation</td>\n",
       "      <td>4455500.0</td>\n",
       "      <td>22797.0</td>\n",
       "    </tr>\n",
       "    <tr>\n",
       "      <th>25</th>\n",
       "      <td>1800.0</td>\n",
       "      <td>Accommodation and food services</td>\n",
       "      <td>14697400.0</td>\n",
       "      <td>86158.0</td>\n",
       "    </tr>\n",
       "    <tr>\n",
       "      <th>26</th>\n",
       "      <td>1900.0</td>\n",
       "      <td>Other services (except government and gover...</td>\n",
       "      <td>11168200.0</td>\n",
       "      <td>70133.0</td>\n",
       "    </tr>\n",
       "    <tr>\n",
       "      <th>28</th>\n",
       "      <td>2001.0</td>\n",
       "      <td>Federal civilian</td>\n",
       "      <td>2857000.0</td>\n",
       "      <td>7200.0</td>\n",
       "    </tr>\n",
       "    <tr>\n",
       "      <th>29</th>\n",
       "      <td>2002.0</td>\n",
       "      <td>Military</td>\n",
       "      <td>1929000.0</td>\n",
       "      <td>3931.0</td>\n",
       "    </tr>\n",
       "    <tr>\n",
       "      <th>31</th>\n",
       "      <td>2011.0</td>\n",
       "      <td>State government</td>\n",
       "      <td>5365000.0</td>\n",
       "      <td>14723.0</td>\n",
       "    </tr>\n",
       "    <tr>\n",
       "      <th>32</th>\n",
       "      <td>2012.0</td>\n",
       "      <td>Local government</td>\n",
       "      <td>14254000.0</td>\n",
       "      <td>111081.0</td>\n",
       "    </tr>\n",
       "  </tbody>\n",
       "</table>\n",
       "</div>"
      ],
      "text/plain": [
       "    LineCode                                        Description     c_00000  \\\n",
       "5       70.0                                    Farm employment   2631000.0   \n",
       "8      100.0          Forestry, fishing, and related activities    926400.0   \n",
       "9      200.0      Mining, quarrying, and oil and gas extraction   1511100.0   \n",
       "10     300.0                                          Utilities    663500.0   \n",
       "11     400.0                                       Construction  10634600.0   \n",
       "12     500.0                                      Manufacturing  13304800.0   \n",
       "13     600.0                                    Wholesale trade   6478900.0   \n",
       "14     700.0                                       Retail trade  19222200.0   \n",
       "15     800.0                     Transportation and warehousing   7663800.0   \n",
       "16     900.0                                        Information   3384400.0   \n",
       "17    1000.0                              Finance and insurance  10510200.0   \n",
       "18    1100.0                 Real estate and rental and leasing   9105900.0   \n",
       "19    1200.0     Professional, scientific, and technical ser...  13721000.0   \n",
       "20    1300.0            Management of companies and enterprises   2667400.0   \n",
       "21    1400.0     Administrative and support and waste manage...  12088500.0   \n",
       "22    1500.0                               Educational services   4691200.0   \n",
       "23    1600.0                  Health care and social assistance  22201200.0   \n",
       "24    1700.0                Arts, entertainment, and recreation   4455500.0   \n",
       "25    1800.0                    Accommodation and food services  14697400.0   \n",
       "26    1900.0     Other services (except government and gover...  11168200.0   \n",
       "28    2001.0                                   Federal civilian   2857000.0   \n",
       "29    2002.0                                           Military   1929000.0   \n",
       "31    2011.0                                   State government   5365000.0   \n",
       "32    2012.0                                   Local government  14254000.0   \n",
       "\n",
       "     c_06065  \n",
       "5     8308.0  \n",
       "8     6564.0  \n",
       "9     2253.0  \n",
       "10    2183.0  \n",
       "11   87528.0  \n",
       "12   49478.0  \n",
       "13   30483.0  \n",
       "14  117728.0  \n",
       "15   58705.0  \n",
       "16    8853.0  \n",
       "17   37133.0  \n",
       "18   49660.0  \n",
       "19   47567.0  \n",
       "20    3384.0  \n",
       "21   77003.0  \n",
       "22   13650.0  \n",
       "23  115363.0  \n",
       "24   22797.0  \n",
       "25   86158.0  \n",
       "26   70133.0  \n",
       "28    7200.0  \n",
       "29    3931.0  \n",
       "31   14723.0  \n",
       "32  111081.0  "
      ]
     },
     "execution_count": 66,
     "metadata": {},
     "output_type": "execute_result"
    }
   ],
   "source": [
    "rc_df_d4"
   ]
  },
  {
   "cell_type": "code",
   "execution_count": 69,
   "metadata": {},
   "outputs": [
    {
     "name": "stderr",
     "output_type": "stream",
     "text": [
      "C:\\Users\\koneill\\Anaconda3\\lib\\site-packages\\ipykernel_launcher.py:7: SettingWithCopyWarning: \n",
      "A value is trying to be set on a copy of a slice from a DataFrame.\n",
      "Try using .loc[row_indexer,col_indexer] = value instead\n",
      "\n",
      "See the caveats in the documentation: http://pandas.pydata.org/pandas-docs/stable/indexing.html#indexing-view-versus-copy\n",
      "  import sys\n"
     ]
    }
   ],
   "source": [
    "rc_multipliers = []\n",
    "for agg_profile in aggregation_profiles:\n",
    "    rc_a = rc_df[rc_df.LineCode.isin(agg_profile)]\n",
    "    base=rc_a[['c_00000']].values\n",
    "    region=rc_a[['c_06065']].values\n",
    "    lq_est=lq(rc_a.c_06065, rc_a.c_00000)\n",
    "    rc_a['lq']=lq_est\n",
    "    ebm=eb_multiplier(rc_a.c_06065, rc_a.c_00000)\n",
    "    rc_multipliers.append(ebm)\n",
    "    "
   ]
  },
  {
   "cell_type": "code",
   "execution_count": 70,
   "metadata": {},
   "outputs": [
    {
     "data": {
      "text/plain": [
       "[3.8076798181522973, 3.841616964877402, 7.53544382371198, 1.5527055495365354]"
      ]
     },
     "execution_count": 70,
     "metadata": {},
     "output_type": "execute_result"
    }
   ],
   "source": [
    "rc_multipliers"
   ]
  },
  {
   "cell_type": "code",
   "execution_count": null,
   "metadata": {},
   "outputs": [],
   "source": []
  }
 ],
 "metadata": {
  "kernelspec": {
   "display_name": "Python 3",
   "language": "python",
   "name": "python3"
  },
  "language_info": {
   "codemirror_mode": {
    "name": "ipython",
    "version": 3
   },
   "file_extension": ".py",
   "mimetype": "text/x-python",
   "name": "python",
   "nbconvert_exporter": "python",
   "pygments_lexer": "ipython3",
   "version": "3.7.1"
  }
 },
 "nbformat": 4,
 "nbformat_minor": 2
}
